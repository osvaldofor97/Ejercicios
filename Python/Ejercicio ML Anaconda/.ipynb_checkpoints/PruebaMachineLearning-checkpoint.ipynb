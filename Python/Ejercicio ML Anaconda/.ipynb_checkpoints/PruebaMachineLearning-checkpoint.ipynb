{
 "cells": [
  {
   "cell_type": "code",
   "execution_count": 2,
   "id": "17cab232",
   "metadata": {},
   "outputs": [
    {
     "name": "stderr",
     "output_type": "stream",
     "text": [
      "D:\\Users\\osval\\Anaconda\\lib\\site-packages\\sklearn\\base.py:420: UserWarning: X does not have valid feature names, but DecisionTreeClassifier was fitted with feature names\n",
      "  warnings.warn(\n"
     ]
    },
    {
     "data": {
      "text/plain": [
       "array(['Football', 'Basket'], dtype=object)"
      ]
     },
     "execution_count": 2,
     "metadata": {},
     "output_type": "execute_result"
    }
   ],
   "source": [
    "import pandas as pd                             #Importando modulo Pandas.\n",
    "from sklearn.tree import DecisionTreeClassifier #Importando modulo para generar un arbol de decision con Machine Learning.\n",
    "import joblib                                   #Importando modulo para guardar el entrenamiento hecho.\n",
    "\n",
    "#dataset = pd.read_csv('deportes.csv')          #Se crea una variable y se le asigna el valor de un CSV con los datos.\n",
    "#inputs = dataset.drop(columns = ['deporte'])   #Del CSV se eliminan las columnas que NO sirven como entradas.\n",
    "#outputs = dataset['deporte']                   #Del CSV se seleccionan las columnas que queremos como salidas.\n",
    "\n",
    "#modelo = DecisionTreeClassifier()              #Se genera un objeto donde se almacenara el entramiento.\n",
    "#modelo.fit(inputs, outputs)                    #Se realiza el entrenamiento con el metodo fit poniendo entradas y salidas.\n",
    "\n",
    "#joblib.dump(modelo, 'deportes_ML.joblib')      #Se exporta el modelo entrenado a un archivo de extension .joblib\n",
    "\n",
    "modelo = joblib.load('deportes_ML.joblib')      #Se carga en la variable modelo, el modelo entrenado previamente.\n",
    "\n",
    "predicciones = modelo.predict([ [1,24],[2,33] ])#Se realizan predicciones con las entradas (genero, edad).\n",
    "predicciones                                    #Se imprime por consola el resultado del entrenamiento."
   ]
  },
  {
   "cell_type": "code",
   "execution_count": null,
   "id": "ddc0a511",
   "metadata": {},
   "outputs": [],
   "source": []
  }
 ],
 "metadata": {
  "kernelspec": {
   "display_name": "Python 3 (ipykernel)",
   "language": "python",
   "name": "python3"
  },
  "language_info": {
   "codemirror_mode": {
    "name": "ipython",
    "version": 3
   },
   "file_extension": ".py",
   "mimetype": "text/x-python",
   "name": "python",
   "nbconvert_exporter": "python",
   "pygments_lexer": "ipython3",
   "version": "3.10.9"
  }
 },
 "nbformat": 4,
 "nbformat_minor": 5
}
